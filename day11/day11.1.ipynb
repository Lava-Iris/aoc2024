{
 "cells": [
  {
   "cell_type": "code",
   "execution_count": 1,
   "metadata": {},
   "outputs": [],
   "source": [
    "with open(\"input.txt\", \"r\") as file:\n",
    "    init_stones = file.read().strip().split(\" \")"
   ]
  },
  {
   "cell_type": "code",
   "execution_count": 2,
   "metadata": {},
   "outputs": [],
   "source": [
    "stones = init_stones\n",
    "for _ in range(25):\n",
    "    new_stones = []\n",
    "    for stone in stones:\n",
    "        if stone == \"0\":\n",
    "            new_stones.append(\"1\")\n",
    "        elif len(stone) % 2 == 0:\n",
    "            new_stones.append(str(int(stone[:len(stone) // 2])))\n",
    "            new_stones.append(str(int(stone[len(stone) // 2:])))\n",
    "        else:\n",
    "            new_stones.append(str(int(stone) * 2024))\n",
    "    stones = new_stones"
   ]
  },
  {
   "cell_type": "code",
   "execution_count": 3,
   "metadata": {},
   "outputs": [
    {
     "name": "stdout",
     "output_type": "stream",
     "text": [
      "198075\n"
     ]
    }
   ],
   "source": [
    "print(len(stones))"
   ]
  }
 ],
 "metadata": {
  "kernelspec": {
   "display_name": "Python 3",
   "language": "python",
   "name": "python3"
  },
  "language_info": {
   "codemirror_mode": {
    "name": "ipython",
    "version": 3
   },
   "file_extension": ".py",
   "mimetype": "text/x-python",
   "name": "python",
   "nbconvert_exporter": "python",
   "pygments_lexer": "ipython3",
   "version": "3.11.9"
  }
 },
 "nbformat": 4,
 "nbformat_minor": 2
}
