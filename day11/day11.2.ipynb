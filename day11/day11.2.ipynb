{
 "cells": [
  {
   "cell_type": "code",
   "execution_count": 16,
   "metadata": {},
   "outputs": [],
   "source": [
    "with open(\"input.txt\", \"r\") as file:\n",
    "    init_stones = list(map(int, file.read().strip().split(\" \")))"
   ]
  },
  {
   "cell_type": "code",
   "execution_count": 17,
   "metadata": {},
   "outputs": [],
   "source": [
    "from collections import Counter"
   ]
  },
  {
   "cell_type": "code",
   "execution_count": 18,
   "metadata": {},
   "outputs": [],
   "source": [
    "stones = Counter(init_stones)\n",
    "for _ in range(75):\n",
    "    new_stones = Counter()\n",
    "    for stone, count in stones.items():\n",
    "        if stone == 0:\n",
    "            new_stones[1] += count\n",
    "        elif len(str(stone)) % 2 == 0:\n",
    "            s = str(stone)\n",
    "            l = len(s) // 2\n",
    "            new_stones[int(s[:l])] += count\n",
    "            new_stones[int(s[l:])] += count\n",
    "        else:\n",
    "            new_stones[stone * 2024] += count\n",
    "    stones = new_stones"
   ]
  },
  {
   "cell_type": "code",
   "execution_count": 19,
   "metadata": {},
   "outputs": [
    {
     "data": {
      "text/plain": [
       "235571309320764"
      ]
     },
     "execution_count": 19,
     "metadata": {},
     "output_type": "execute_result"
    }
   ],
   "source": [
    "sum(stones.values())"
   ]
  }
 ],
 "metadata": {
  "kernelspec": {
   "display_name": "Python 3",
   "language": "python",
   "name": "python3"
  },
  "language_info": {
   "codemirror_mode": {
    "name": "ipython",
    "version": 3
   },
   "file_extension": ".py",
   "mimetype": "text/x-python",
   "name": "python",
   "nbconvert_exporter": "python",
   "pygments_lexer": "ipython3",
   "version": "3.11.9"
  }
 },
 "nbformat": 4,
 "nbformat_minor": 2
}
