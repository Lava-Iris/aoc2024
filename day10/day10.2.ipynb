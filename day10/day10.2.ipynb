{
 "cells": [
  {
   "cell_type": "code",
   "execution_count": 3,
   "metadata": {},
   "outputs": [],
   "source": [
    "file = open(\"example.txt\", \"r\")\n",
    "top_map = list(map(list, file.read().splitlines()))"
   ]
  },
  {
   "cell_type": "code",
   "execution_count": null,
   "metadata": {},
   "outputs": [],
   "source": [
    "stack = []\n",
    "zeroes = []\n",
    "paths = [[0 for _ in range(len(top_map[i]))] for i in range(len(top_map))]\n",
    "for i in range(len(top_map)):\n",
    "    for j in range(len(top_map[i])):\n",
    "        if top_map[i][j] == \"9\":\n",
    "            stack.append((i, j))\n",
    "            paths[i][j] = 1\n",
    "        if top_map[i][j] == \"0\":\n",
    "            zeroes.append((i, j))\n",
    "\n",
    "directions = [(0, 1), (1, 0), (0, -1), (-1, 0)]\n",
    "curr = 9\n",
    "while curr > 0:\n",
    "    curr -= 1\n",
    "    print('\\n'.join(list(map(str, paths))))\n",
    "    print()\n",
    "    new_stack = []\n",
    "    while stack:\n",
    "        i, j = stack.pop()\n",
    "        for d in directions:\n",
    "            x, y = i + d[0], j + d[1]\n",
    "            if 0 <= x < len(top_map) and 0 <= y < len(top_map[x]) and top_map[x][y] == str(curr):\n",
    "                paths[x][y] += paths[i][j]\n",
    "                new_stack.append((x, y))\n",
    "    stack = new_stack\n"
   ]
  },
  {
   "cell_type": "code",
   "execution_count": 6,
   "metadata": {},
   "outputs": [
    {
     "data": {
      "text/plain": [
       "[[1, 1, 8900000, 445000, 9014688, 28672, 7168, 1792],\n",
       " [3, 1, 445000, 44500, 445000, 1, 1, 448],\n",
       " [1, 2, 445, 4450, 4450000, 1, 28, 112],\n",
       " [1, 4, 89, 445, 1, 3, 9, 448],\n",
       " [445, 89, 27, 9, 3, 1, 114688, 1792],\n",
       " [2225, 11125, 1, 1, 1, 114688, 28672, 7168],\n",
       " [278125, 55625, 1, 1, 1, 1, 229376, 28672],\n",
       " [0, 278125, 1, 1, 1, 1, 0, 0]]"
      ]
     },
     "execution_count": 6,
     "metadata": {},
     "output_type": "execute_result"
    }
   ],
   "source": [
    "paths"
   ]
  },
  {
   "cell_type": "code",
   "execution_count": 18,
   "metadata": {},
   "outputs": [
    {
     "data": {
      "text/plain": [
       "776"
      ]
     },
     "execution_count": 18,
     "metadata": {},
     "output_type": "execute_result"
    }
   ],
   "source": [
    "sum([len(paths[zero[0]][zero[1]]) for zero in zeroes])"
   ]
  }
 ],
 "metadata": {
  "kernelspec": {
   "display_name": "Python 3",
   "language": "python",
   "name": "python3"
  },
  "language_info": {
   "codemirror_mode": {
    "name": "ipython",
    "version": 3
   },
   "file_extension": ".py",
   "mimetype": "text/x-python",
   "name": "python",
   "nbconvert_exporter": "python",
   "pygments_lexer": "ipython3",
   "version": "3.11.9"
  }
 },
 "nbformat": 4,
 "nbformat_minor": 2
}
