{
 "cells": [
  {
   "cell_type": "code",
   "execution_count": 15,
   "metadata": {},
   "outputs": [],
   "source": [
    "file = open(\"input.txt\", \"r\")\n",
    "top_map = list(map(list, file.read().splitlines()))"
   ]
  },
  {
   "cell_type": "code",
   "execution_count": 16,
   "metadata": {},
   "outputs": [],
   "source": [
    "stack = set()\n",
    "zeroes = []\n",
    "paths = [[0 for _ in range(len(top_map[i]))] for i in range(len(top_map))]\n",
    "for i in range(len(top_map)):\n",
    "    for j in range(len(top_map[i])):\n",
    "        if top_map[i][j] == \"9\":\n",
    "            stack.add((i, j))\n",
    "            paths[i][j] = 1\n",
    "        if top_map[i][j] == \"0\":\n",
    "            zeroes.append((i, j))\n",
    "\n",
    "directions = [(0, 1), (1, 0), (0, -1), (-1, 0)]\n",
    "curr = 9\n",
    "while curr > 0:\n",
    "    curr -= 1\n",
    "    # print('\\n'.join(list(map(str, paths))))\n",
    "    # print()\n",
    "    new_stack = set()\n",
    "    while stack:\n",
    "        i, j = stack.pop()\n",
    "        for d in directions:\n",
    "            x, y = i + d[0], j + d[1]\n",
    "            if 0 <= x < len(top_map) and 0 <= y < len(top_map[x]) and top_map[x][y] == str(curr):\n",
    "                paths[x][y] += paths[i][j]\n",
    "                new_stack.add((x, y))\n",
    "    stack = new_stack\n"
   ]
  },
  {
   "cell_type": "code",
   "execution_count": 18,
   "metadata": {},
   "outputs": [
    {
     "data": {
      "text/plain": [
       "1657"
      ]
     },
     "execution_count": 18,
     "metadata": {},
     "output_type": "execute_result"
    }
   ],
   "source": [
    "sum([paths[i][j] for i, j in zeroes])"
   ]
  },
  {
   "cell_type": "code",
   "execution_count": 19,
   "metadata": {},
   "outputs": [],
   "source": [
    "file.close()"
   ]
  }
 ],
 "metadata": {
  "kernelspec": {
   "display_name": "Python 3",
   "language": "python",
   "name": "python3"
  },
  "language_info": {
   "codemirror_mode": {
    "name": "ipython",
    "version": 3
   },
   "file_extension": ".py",
   "mimetype": "text/x-python",
   "name": "python",
   "nbconvert_exporter": "python",
   "pygments_lexer": "ipython3",
   "version": "3.11.9"
  }
 },
 "nbformat": 4,
 "nbformat_minor": 2
}
